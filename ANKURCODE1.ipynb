{
 "cells": [
  {
   "cell_type": "code",
   "execution_count": 11,
   "id": "869c3669",
   "metadata": {},
   "outputs": [],
   "source": [
    "from tkinter import Label, Tk\n",
    "import time\n",
    "app_window = Tk()\n",
    "app_window.title(\"C# Corner Digital CLock\")\n",
    "app_window.geometry(\"1150x200\")\n",
    "app_window.resizable(1,1)\n",
    "\n",
    "text_font= (\"Lato\", 100, 'bold')\n",
    "background = \"green\"\n",
    "foreground= \"white\"\n",
    "border_width = 25\n",
    "\n",
    "label = Label(app_window, font=text_font, bg=background, fg=foreground, bd=border_width)\n",
    "label.grid(row=0, column=1)\n",
    "\n",
    "def dclock():\n",
    "   time_live = time.strftime(\"%H:%M:%S:%DATE\")\n",
    "   label.config(text=time_live)\n",
    "   label.after(200, dclock)\n",
    "\n",
    "dclock()\n",
    "app_window.mainloop()"
   ]
  },
  {
   "cell_type": "code",
   "execution_count": null,
   "id": "12a8d9eb",
   "metadata": {},
   "outputs": [],
   "source": []
  }
 ],
 "metadata": {
  "kernelspec": {
   "display_name": "Python 3 (ipykernel)",
   "language": "python",
   "name": "python3"
  },
  "language_info": {
   "codemirror_mode": {
    "name": "ipython",
    "version": 3
   },
   "file_extension": ".py",
   "mimetype": "text/x-python",
   "name": "python",
   "nbconvert_exporter": "python",
   "pygments_lexer": "ipython3",
   "version": "3.9.7"
  }
 },
 "nbformat": 4,
 "nbformat_minor": 5
}
